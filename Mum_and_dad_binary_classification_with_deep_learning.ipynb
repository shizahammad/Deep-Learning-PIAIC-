{
  "nbformat": 4,
  "nbformat_minor": 0,
  "metadata": {
    "colab": {
      "name": "Mum and dad binary classification with deep learning.ipynb",
      "provenance": [],
      "collapsed_sections": [],
      "authorship_tag": "ABX9TyPW6tCg6yHm/kaLA0rnb4o6",
      "include_colab_link": true
    },
    "kernelspec": {
      "name": "python3",
      "display_name": "Python 3"
    }
  },
  "cells": [
    {
      "cell_type": "markdown",
      "metadata": {
        "id": "view-in-github",
        "colab_type": "text"
      },
      "source": [
        "<a href=\"https://colab.research.google.com/github/shizahammad/Deep-Learning-PIAIC-/blob/master/Mum_and_dad_binary_classification_with_deep_learning.ipynb\" target=\"_parent\"><img src=\"https://colab.research.google.com/assets/colab-badge.svg\" alt=\"Open In Colab\"/></a>"
      ]
    },
    {
      "cell_type": "code",
      "metadata": {
        "id": "sjWG0YocL8xO",
        "colab_type": "code",
        "colab": {}
      },
      "source": [
        "from pydrive.auth import GoogleAuth\n",
        "from pydrive.drive import GoogleDrive\n",
        "from google.colab import auth\n",
        "from oauth2client.client import GoogleCredentials\n",
        "import io\n",
        "import zipfile\n",
        "# Authenticate and create the PyDrive client.\n",
        "# This only needs to be done once per notebook.\n",
        "auth.authenticate_user()\n",
        "gauth = GoogleAuth()\n",
        "gauth.credentials = GoogleCredentials.get_application_default()\n",
        "drive = GoogleDrive(gauth)"
      ],
      "execution_count": null,
      "outputs": []
    },
    {
      "cell_type": "code",
      "metadata": {
        "id": "eWeuPjrNMyu3",
        "colab_type": "code",
        "colab": {
          "base_uri": "https://localhost:8080/",
          "height": 122
        },
        "outputId": "da679181-b0c6-4c65-adfd-dd3dbbfc3ce6"
      },
      "source": [
        "from google.colab import drive\n",
        "drive.mount('/content/drive')"
      ],
      "execution_count": null,
      "outputs": [
        {
          "output_type": "stream",
          "text": [
            "Go to this URL in a browser: https://accounts.google.com/o/oauth2/auth?client_id=947318989803-6bn6qk8qdgf4n4g3pfee6491hc0brc4i.apps.googleusercontent.com&redirect_uri=urn%3aietf%3awg%3aoauth%3a2.0%3aoob&response_type=code&scope=email%20https%3a%2f%2fwww.googleapis.com%2fauth%2fdocs.test%20https%3a%2f%2fwww.googleapis.com%2fauth%2fdrive%20https%3a%2f%2fwww.googleapis.com%2fauth%2fdrive.photos.readonly%20https%3a%2f%2fwww.googleapis.com%2fauth%2fpeopleapi.readonly\n",
            "\n",
            "Enter your authorization code:\n",
            "··········\n",
            "Mounted at /content/drive\n"
          ],
          "name": "stdout"
        }
      ]
    },
    {
      "cell_type": "code",
      "metadata": {
        "id": "6FTjnP5INBsp",
        "colab_type": "code",
        "colab": {}
      },
      "source": [
        "!unzip -uq \"/content/drive/My Drive/Colab Notebooks/dataset/train_parents.zip\" -d \"/content/drive/My Drive/Colab Notebooks/dataset\""
      ],
      "execution_count": null,
      "outputs": []
    },
    {
      "cell_type": "code",
      "metadata": {
        "id": "tbsXtwg8NHLp",
        "colab_type": "code",
        "colab": {}
      },
      "source": [
        "from tensorflow.keras.preprocessing.image import ImageDataGenerator"
      ],
      "execution_count": null,
      "outputs": []
    },
    {
      "cell_type": "code",
      "metadata": {
        "id": "Apv2CwQKNKvN",
        "colab_type": "code",
        "colab": {}
      },
      "source": [
        "train_data_gen = ImageDataGenerator(rescale=1.0/255)"
      ],
      "execution_count": null,
      "outputs": []
    },
    {
      "cell_type": "code",
      "metadata": {
        "id": "zN4sxmkbNNds",
        "colab_type": "code",
        "colab": {
          "base_uri": "https://localhost:8080/",
          "height": 34
        },
        "outputId": "0478584e-d804-4a51-f73a-cb2438296727"
      },
      "source": [
        "train_data = train_data_gen.flow_from_directory(\n",
        "    \"/content/drive/My Drive/Colab Notebooks/dataset/train_parents\",\n",
        "    target_size=(150,150),\n",
        "    batch_size=20,\n",
        "    class_mode='binary'\n",
        ")\n"
      ],
      "execution_count": null,
      "outputs": [
        {
          "output_type": "stream",
          "text": [
            "Found 8 images belonging to 2 classes.\n"
          ],
          "name": "stdout"
        }
      ]
    },
    {
      "cell_type": "code",
      "metadata": {
        "id": "VcxjYDgpNXFT",
        "colab_type": "code",
        "colab": {
          "base_uri": "https://localhost:8080/",
          "height": 34
        },
        "outputId": "15220038-cd25-44a2-fd5a-6aacf9318874"
      },
      "source": [
        "train_data.class_indices"
      ],
      "execution_count": null,
      "outputs": [
        {
          "output_type": "execute_result",
          "data": {
            "text/plain": [
              "{'dad': 0, 'mum': 1}"
            ]
          },
          "metadata": {
            "tags": []
          },
          "execution_count": 7
        }
      ]
    },
    {
      "cell_type": "code",
      "metadata": {
        "id": "4OmTh09SNbVL",
        "colab_type": "code",
        "colab": {}
      },
      "source": [
        "from tensorflow.keras.models import Sequential\n",
        "from tensorflow.keras.layers import Dense, Flatten\n",
        "from tensorflow.keras.optimizers import Adam, SGD"
      ],
      "execution_count": null,
      "outputs": []
    },
    {
      "cell_type": "code",
      "metadata": {
        "id": "8UHvzSWvNeRW",
        "colab_type": "code",
        "colab": {}
      },
      "source": [
        "model1 = Sequential()\n",
        "model1.add(Flatten())\n",
        "model1.add(Dense(5000, activation='relu'))\n",
        "model1.add(Dense(1, activation='sigmoid'))"
      ],
      "execution_count": null,
      "outputs": []
    },
    {
      "cell_type": "code",
      "metadata": {
        "id": "nH3cYp0ONg8i",
        "colab_type": "code",
        "colab": {}
      },
      "source": [
        "model1.compile(loss='binary_crossentropy',\n",
        "              optimizer='adam',\n",
        "              metrics=['acc'])"
      ],
      "execution_count": null,
      "outputs": []
    },
    {
      "cell_type": "code",
      "metadata": {
        "id": "4-GYg5euNja8",
        "colab_type": "code",
        "colab": {
          "base_uri": "https://localhost:8080/",
          "height": 391
        },
        "outputId": "3b2222aa-8d11-4e8d-d04d-f5743d23a3ab"
      },
      "source": [
        "hist = model1.fit(train_data, epochs=11)"
      ],
      "execution_count": null,
      "outputs": [
        {
          "output_type": "stream",
          "text": [
            "Epoch 1/11\n",
            "1/1 [==============================] - 0s 1ms/step - loss: 0.7190 - acc: 0.5000\n",
            "Epoch 2/11\n",
            "1/1 [==============================] - 0s 7ms/step - loss: 262.8150 - acc: 0.5000\n",
            "Epoch 3/11\n",
            "1/1 [==============================] - 0s 7ms/step - loss: 8.2119 - acc: 0.6250\n",
            "Epoch 4/11\n",
            "1/1 [==============================] - 0s 7ms/step - loss: 12.9973 - acc: 0.5000\n",
            "Epoch 5/11\n",
            "1/1 [==============================] - 0s 7ms/step - loss: 70.0805 - acc: 0.5000\n",
            "Epoch 6/11\n",
            "1/1 [==============================] - 0s 12ms/step - loss: 39.4740 - acc: 0.5000\n",
            "Epoch 7/11\n",
            "1/1 [==============================] - 0s 8ms/step - loss: 7.5733 - acc: 0.8750\n",
            "Epoch 8/11\n",
            "1/1 [==============================] - 0s 1ms/step - loss: 67.2277 - acc: 0.5000\n",
            "Epoch 9/11\n",
            "1/1 [==============================] - 0s 8ms/step - loss: 46.3156 - acc: 0.5000\n",
            "Epoch 10/11\n",
            "1/1 [==============================] - 0s 8ms/step - loss: 0.0537 - acc: 1.0000\n",
            "Epoch 11/11\n",
            "1/1 [==============================] - 0s 11ms/step - loss: 13.2863 - acc: 0.7500\n"
          ],
          "name": "stdout"
        }
      ]
    },
    {
      "cell_type": "code",
      "metadata": {
        "id": "-xCl3S_WPRqW",
        "colab_type": "code",
        "colab": {}
      },
      "source": [
        "!unzip -uq \"/content/drive/My Drive/Colab Notebooks/dataset/test_parents.zip\" -d \"/content/drive/My Drive/Colab Notebooks/dataset\""
      ],
      "execution_count": null,
      "outputs": []
    },
    {
      "cell_type": "code",
      "metadata": {
        "id": "9u_vc_-JPa9q",
        "colab_type": "code",
        "colab": {}
      },
      "source": [
        "from tensorflow.keras.preprocessing.image import ImageDataGenerator"
      ],
      "execution_count": null,
      "outputs": []
    },
    {
      "cell_type": "code",
      "metadata": {
        "id": "5i2zkCjoPhvj",
        "colab_type": "code",
        "colab": {}
      },
      "source": [
        "test_data_gen = ImageDataGenerator(rescale=1.0/255)"
      ],
      "execution_count": null,
      "outputs": []
    },
    {
      "cell_type": "code",
      "metadata": {
        "id": "iHpKT-3NPm8O",
        "colab_type": "code",
        "colab": {
          "base_uri": "https://localhost:8080/",
          "height": 34
        },
        "outputId": "80dea750-8fa1-4ffa-e3c9-27961f931128"
      },
      "source": [
        "test_data = test_data_gen.flow_from_directory(\n",
        "    \"/content/drive/My Drive/Colab Notebooks/dataset/test_parents\",\n",
        "    target_size=(150,150),\n",
        "    batch_size=20,\n",
        "    class_mode='binary'\n",
        ")"
      ],
      "execution_count": null,
      "outputs": [
        {
          "output_type": "stream",
          "text": [
            "Found 2 images belonging to 2 classes.\n"
          ],
          "name": "stdout"
        }
      ]
    },
    {
      "cell_type": "code",
      "metadata": {
        "id": "GVnVG3IrQWwF",
        "colab_type": "code",
        "colab": {
          "base_uri": "https://localhost:8080/",
          "height": 51
        },
        "outputId": "2b4c551b-ab69-4e30-a263-2228c27fbaea"
      },
      "source": [
        "Y = model1.predict(test_data)\n",
        "Y"
      ],
      "execution_count": null,
      "outputs": [
        {
          "output_type": "execute_result",
          "data": {
            "text/plain": [
              "array([[0.],\n",
              "       [0.]], dtype=float32)"
            ]
          },
          "metadata": {
            "tags": []
          },
          "execution_count": 23
        }
      ]
    },
    {
      "cell_type": "code",
      "metadata": {
        "id": "UxYvDXGSQiBa",
        "colab_type": "code",
        "colab": {
          "base_uri": "https://localhost:8080/",
          "height": 51
        },
        "outputId": "a85f3b30-5ef3-413c-bfe6-a815f782d6d8"
      },
      "source": [
        "import numpy as np\n",
        "np.where(Y>0, \"Mum\",\"Dad\")"
      ],
      "execution_count": null,
      "outputs": [
        {
          "output_type": "execute_result",
          "data": {
            "text/plain": [
              "array([['Dad'],\n",
              "       ['Dad']], dtype='<U3')"
            ]
          },
          "metadata": {
            "tags": []
          },
          "execution_count": 25
        }
      ]
    }
  ]
}