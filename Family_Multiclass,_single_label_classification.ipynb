{
  "nbformat": 4,
  "nbformat_minor": 0,
  "metadata": {
    "colab": {
      "name": "Family Multiclass, single label classification.ipynb",
      "provenance": [],
      "collapsed_sections": [],
      "authorship_tag": "ABX9TyPAzpeojUjLODWaUbAGM4lU",
      "include_colab_link": true
    },
    "kernelspec": {
      "name": "python3",
      "display_name": "Python 3"
    },
    "accelerator": "GPU"
  },
  "cells": [
    {
      "cell_type": "markdown",
      "metadata": {
        "id": "view-in-github",
        "colab_type": "text"
      },
      "source": [
        "<a href=\"https://colab.research.google.com/github/shizahammad/Deep-Learning-PIAIC-/blob/master/Family_Multiclass%2C_single_label_classification.ipynb\" target=\"_parent\"><img src=\"https://colab.research.google.com/assets/colab-badge.svg\" alt=\"Open In Colab\"/></a>"
      ]
    },
    {
      "cell_type": "code",
      "metadata": {
        "id": "qauUGCz_iOFj",
        "colab_type": "code",
        "colab": {}
      },
      "source": [
        "from pydrive.auth import GoogleAuth\n",
        "from pydrive.drive import GoogleDrive\n",
        "from google.colab import auth\n",
        "from oauth2client.client import GoogleCredentials\n",
        "import io\n",
        "import zipfile\n",
        "# Authenticate and create the PyDrive client.\n",
        "# This only needs to be done once per notebook.\n",
        "auth.authenticate_user()\n",
        "gauth = GoogleAuth()\n",
        "gauth.credentials = GoogleCredentials.get_application_default()\n",
        "drive = GoogleDrive(gauth)"
      ],
      "execution_count": null,
      "outputs": []
    },
    {
      "cell_type": "code",
      "metadata": {
        "id": "vpT4cCViibO0",
        "colab_type": "code",
        "colab": {
          "base_uri": "https://localhost:8080/",
          "height": 122
        },
        "outputId": "7c7fcff0-12eb-4ddf-9aa9-2b2a0107872a"
      },
      "source": [
        "from google.colab import drive\n",
        "drive.mount('/content/drive')"
      ],
      "execution_count": null,
      "outputs": [
        {
          "output_type": "stream",
          "text": [
            "Go to this URL in a browser: https://accounts.google.com/o/oauth2/auth?client_id=947318989803-6bn6qk8qdgf4n4g3pfee6491hc0brc4i.apps.googleusercontent.com&redirect_uri=urn%3aietf%3awg%3aoauth%3a2.0%3aoob&response_type=code&scope=email%20https%3a%2f%2fwww.googleapis.com%2fauth%2fdocs.test%20https%3a%2f%2fwww.googleapis.com%2fauth%2fdrive%20https%3a%2f%2fwww.googleapis.com%2fauth%2fdrive.photos.readonly%20https%3a%2f%2fwww.googleapis.com%2fauth%2fpeopleapi.readonly\n",
            "\n",
            "Enter your authorization code:\n",
            "··········\n",
            "Mounted at /content/drive\n"
          ],
          "name": "stdout"
        }
      ]
    },
    {
      "cell_type": "code",
      "metadata": {
        "id": "5inNi2TsiqIV",
        "colab_type": "code",
        "colab": {}
      },
      "source": [
        "!unzip -uq \"/content/drive/My Drive/Colab Notebooks/dataset/train_family.zip\" -d \"/content/drive/My Drive/Colab Notebooks/dataset\""
      ],
      "execution_count": null,
      "outputs": []
    },
    {
      "cell_type": "code",
      "metadata": {
        "id": "O8fZWKXHhFQo",
        "colab_type": "code",
        "colab": {}
      },
      "source": [
        "\n",
        "from tensorflow.keras.preprocessing.image import ImageDataGenerator"
      ],
      "execution_count": null,
      "outputs": []
    },
    {
      "cell_type": "code",
      "metadata": {
        "id": "PqF0cC5Hh1oP",
        "colab_type": "code",
        "colab": {}
      },
      "source": [
        "train_data_gen = ImageDataGenerator(rescale=1.0/255)"
      ],
      "execution_count": null,
      "outputs": []
    },
    {
      "cell_type": "code",
      "metadata": {
        "id": "GnKiS_2Vh_w-",
        "colab_type": "code",
        "colab": {
          "base_uri": "https://localhost:8080/",
          "height": 34
        },
        "outputId": "2f95f273-b266-452d-f363-6fcec11be099"
      },
      "source": [
        "train_data = train_data_gen.flow_from_directory(\n",
        "    \"/content/drive/My Drive/Colab Notebooks/dataset/train_family\",\n",
        "    target_size=(150,150),\n",
        "    class_mode='categorical'\n",
        ")"
      ],
      "execution_count": null,
      "outputs": [
        {
          "output_type": "stream",
          "text": [
            "Found 16 images belonging to 4 classes.\n"
          ],
          "name": "stdout"
        }
      ]
    },
    {
      "cell_type": "code",
      "metadata": {
        "id": "bvsJw8tmjTHk",
        "colab_type": "code",
        "colab": {
          "base_uri": "https://localhost:8080/",
          "height": 34
        },
        "outputId": "afaf562d-9aac-425d-fa9b-0aad6aeb36c6"
      },
      "source": [
        "train_data.class_indices"
      ],
      "execution_count": null,
      "outputs": [
        {
          "output_type": "execute_result",
          "data": {
            "text/plain": [
              "{'anum': 0, 'saad': 1, 'usman': 2, 'zainab': 3}"
            ]
          },
          "metadata": {
            "tags": []
          },
          "execution_count": 12
        }
      ]
    },
    {
      "cell_type": "code",
      "metadata": {
        "id": "Qpj1WY7bjZQC",
        "colab_type": "code",
        "colab": {}
      },
      "source": [
        "from tensorflow.keras.models import Sequential\n",
        "from tensorflow.keras.layers import Dense, Flatten\n",
        "from tensorflow.keras.optimizers import Adam, SGD"
      ],
      "execution_count": null,
      "outputs": []
    },
    {
      "cell_type": "code",
      "metadata": {
        "id": "wv3HlAdhjdIp",
        "colab_type": "code",
        "colab": {}
      },
      "source": [
        "model1 = Sequential()\n",
        "model1.add(Flatten())\n",
        "model1.add(Dense(5000, activation='relu'))\n",
        "model1.add(Dense(4, activation='softmax'))"
      ],
      "execution_count": null,
      "outputs": []
    },
    {
      "cell_type": "code",
      "metadata": {
        "id": "NRoDoSZzjsDD",
        "colab_type": "code",
        "colab": {}
      },
      "source": [
        "model1.compile(loss='categorical_crossentropy',\n",
        "              optimizer='adam',\n",
        "              metrics=['acc'])"
      ],
      "execution_count": null,
      "outputs": []
    },
    {
      "cell_type": "code",
      "metadata": {
        "id": "DQJEly3kj0NZ",
        "colab_type": "code",
        "colab": {
          "base_uri": "https://localhost:8080/",
          "height": 391
        },
        "outputId": "47898fb2-4c37-47e6-e7cf-9bfe142acaeb"
      },
      "source": [
        "hist = model1.fit(train_data, epochs=11)"
      ],
      "execution_count": null,
      "outputs": [
        {
          "output_type": "stream",
          "text": [
            "Epoch 1/11\n",
            "1/1 [==============================] - 0s 1ms/step - loss: 1.5547 - acc: 0.2500\n",
            "Epoch 2/11\n",
            "1/1 [==============================] - 0s 2ms/step - loss: 252.1560 - acc: 0.4375\n",
            "Epoch 3/11\n",
            "1/1 [==============================] - 0s 1ms/step - loss: 199.8118 - acc: 0.2500\n",
            "Epoch 4/11\n",
            "1/1 [==============================] - 0s 1ms/step - loss: 202.5112 - acc: 0.2500\n",
            "Epoch 5/11\n",
            "1/1 [==============================] - 0s 999us/step - loss: 83.9040 - acc: 0.4375\n",
            "Epoch 6/11\n",
            "1/1 [==============================] - 0s 1ms/step - loss: 85.1405 - acc: 0.2500\n",
            "Epoch 7/11\n",
            "1/1 [==============================] - 0s 1ms/step - loss: 80.7076 - acc: 0.3125\n",
            "Epoch 8/11\n",
            "1/1 [==============================] - 0s 1ms/step - loss: 57.9337 - acc: 0.3125\n",
            "Epoch 9/11\n",
            "1/1 [==============================] - 0s 1ms/step - loss: 16.9827 - acc: 0.6875\n",
            "Epoch 10/11\n",
            "1/1 [==============================] - 0s 2ms/step - loss: 0.7972 - acc: 0.8125\n",
            "Epoch 11/11\n",
            "1/1 [==============================] - 0s 1ms/step - loss: 11.1476 - acc: 0.6875\n"
          ],
          "name": "stdout"
        }
      ]
    },
    {
      "cell_type": "code",
      "metadata": {
        "id": "lWUPfdE1j5F2",
        "colab_type": "code",
        "colab": {}
      },
      "source": [
        "!unzip -uq \"/content/drive/My Drive/Colab Notebooks/dataset/test_family.zip\" -d \"/content/drive/My Drive/Colab Notebooks/dataset\""
      ],
      "execution_count": null,
      "outputs": []
    },
    {
      "cell_type": "code",
      "metadata": {
        "id": "mEZkjHV0kOu4",
        "colab_type": "code",
        "colab": {}
      },
      "source": [
        "test_data_gen = ImageDataGenerator(rescale=1.0/255)"
      ],
      "execution_count": null,
      "outputs": []
    },
    {
      "cell_type": "code",
      "metadata": {
        "id": "eK1aePESkPjK",
        "colab_type": "code",
        "colab": {
          "base_uri": "https://localhost:8080/",
          "height": 34
        },
        "outputId": "046418fd-a046-47e9-ac99-fdd9829aee77"
      },
      "source": [
        "test_data = test_data_gen.flow_from_directory(\n",
        "    \"/content/drive/My Drive/Colab Notebooks/dataset/test_family\",\n",
        "    target_size=(150,150),\n",
        "    class_mode='categorical'\n",
        ")"
      ],
      "execution_count": null,
      "outputs": [
        {
          "output_type": "stream",
          "text": [
            "Found 4 images belonging to 4 classes.\n"
          ],
          "name": "stdout"
        }
      ]
    },
    {
      "cell_type": "code",
      "metadata": {
        "id": "51TvdFkpkYti",
        "colab_type": "code",
        "colab": {
          "base_uri": "https://localhost:8080/",
          "height": 102
        },
        "outputId": "b72986c4-5106-48de-88a2-ac74fb8f9580"
      },
      "source": [
        "Y = model1.predict(test_data)\n",
        "Y"
      ],
      "execution_count": null,
      "outputs": [
        {
          "output_type": "execute_result",
          "data": {
            "text/plain": [
              "array([[9.2835423e-18, 0.0000000e+00, 1.1939462e-25, 1.0000000e+00],\n",
              "       [7.8393984e-01, 0.0000000e+00, 2.4524420e-29, 2.1606015e-01],\n",
              "       [2.5342747e-10, 0.0000000e+00, 1.1626734e-31, 1.0000000e+00],\n",
              "       [1.4176061e-07, 0.0000000e+00, 3.7699638e-28, 9.9999988e-01]],\n",
              "      dtype=float32)"
            ]
          },
          "metadata": {
            "tags": []
          },
          "execution_count": 21
        }
      ]
    },
    {
      "cell_type": "code",
      "metadata": {
        "id": "V-WFWFD5kbLz",
        "colab_type": "code",
        "colab": {
          "base_uri": "https://localhost:8080/",
          "height": 85
        },
        "outputId": "b96b56cf-d16f-40a1-dc73-cbc1825504bc"
      },
      "source": [
        "import numpy as np\n",
        "\n",
        "w = np.array([9.2835423e-18, 0.0000000e+00, 1.1939462e-25, 1.0000000e+00]) # array of probabilities, as per your example\n",
        "a = np.argmax(w) \n",
        "print(a)\n",
        "\n",
        "w = np.array([7.8393984e-01, 0.0000000e+00, 2.4524420e-29, 2.1606015e-01]) # array of probabilities, as per your example\n",
        "a = np.argmax(w) \n",
        "print(a)\n",
        "w = np.array([2.5342747e-10, 0.0000000e+00, 1.1626734e-31, 1.0000000e+00]) # array of probabilities, as per your example\n",
        "a = np.argmax(w) \n",
        "print(a)\n",
        "w = np.array([1.4176061e-07, 0.0000000e+00, 3.7699638e-28, 9.9999988e-01]) # array of probabilities, as per your example\n",
        "a = np.argmax(w) \n",
        "print(a)"
      ],
      "execution_count": null,
      "outputs": [
        {
          "output_type": "stream",
          "text": [
            "3\n",
            "0\n",
            "3\n",
            "3\n"
          ],
          "name": "stdout"
        }
      ]
    },
    {
      "cell_type": "code",
      "metadata": {
        "id": "O1_NRRQIl-PC",
        "colab_type": "code",
        "colab": {}
      },
      "source": [
        ""
      ],
      "execution_count": null,
      "outputs": []
    }
  ]
}